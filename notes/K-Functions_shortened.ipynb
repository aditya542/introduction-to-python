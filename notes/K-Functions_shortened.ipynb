{
 "cells": [
  {
   "cell_type": "markdown",
   "metadata": {},
   "source": [
    "### Built-in functions\n",
    "\n",
    "Python provides a set of functions already built-in. You are already very familiar with one of them:"
   ]
  },
  {
   "cell_type": "code",
   "execution_count": 1,
   "metadata": {},
   "outputs": [
    {
     "name": "stdout",
     "output_type": "stream",
     "text": [
      "Oh yeah, I am a function! I print things on the screen\n"
     ]
    }
   ],
   "source": [
    "# Here print is the function\n",
    "# Within parentheses we pass ONE parameter, the string with the message\n",
    "print(\"Oh yeah, I am a function! I print things on the screen\")"
   ]
  },
  {
   "cell_type": "code",
   "execution_count": 2,
   "metadata": {},
   "outputs": [
    {
     "name": "stdout",
     "output_type": "stream",
     "text": [
      "Hi Panos How are you\n"
     ]
    }
   ],
   "source": [
    "# The print function can take more than one parameter\n",
    "# For example below we pass three strings as parameters\n",
    "name = \"Panos\"\n",
    "print(\"Hi\", name, \"How are you\")"
   ]
  },
  {
   "cell_type": "markdown",
   "metadata": {},
   "source": [
    "- You have already encountered `len`, `sum`, `max`, and `min`."
   ]
  },
  {
   "cell_type": "code",
   "execution_count": 3,
   "metadata": {},
   "outputs": [
    {
     "name": "stdout",
     "output_type": "stream",
     "text": [
      "Length: 6\n"
     ]
    }
   ],
   "source": [
    "nums = [3, 41, 12, 9, 74, 15]\n",
    "\n",
    "# len() takes as a parameter a string (and returns its length in characters)\n",
    "# or a list/set/dictionary/... (and returns the number of elements)\n",
    "print(\"Length:\", len(nums))"
   ]
  },
  {
   "cell_type": "code",
   "execution_count": 4,
   "metadata": {},
   "outputs": [
    {
     "name": "stdout",
     "output_type": "stream",
     "text": [
      "Max: 74\n",
      "Min: 3\n"
     ]
    }
   ],
   "source": [
    "# max() / min() takes as a parameter a *list* and returns \n",
    "# the maximum or minimum element\n",
    "print(\"Max:\", max(nums))\n",
    "print(\"Min:\", min(nums))"
   ]
  },
  {
   "cell_type": "code",
   "execution_count": 5,
   "metadata": {},
   "outputs": [
    {
     "name": "stdout",
     "output_type": "stream",
     "text": [
      "Sum: 154\n"
     ]
    }
   ],
   "source": [
    "# sum() gets as input a list of numbers and returns their sum\n",
    "print(\"Sum:\", sum(nums))"
   ]
  },
  {
   "cell_type": "markdown",
   "metadata": {},
   "source": [
    "- We have also used various type conversion functions, such as `set`, `list`,  and `tuple`. We can also do type conversions with  `int`, `float`, and `str`:"
   ]
  },
  {
   "cell_type": "code",
   "execution_count": 6,
   "metadata": {},
   "outputs": [
    {
     "data": {
      "text/plain": [
       "3"
      ]
     },
     "execution_count": 6,
     "metadata": {},
     "output_type": "execute_result"
    }
   ],
   "source": [
    "# Convert to integer\n",
    "int(3.7)"
   ]
  },
  {
   "cell_type": "code",
   "execution_count": 7,
   "metadata": {},
   "outputs": [
    {
     "data": {
      "text/plain": [
       "'8'"
      ]
     },
     "execution_count": 7,
     "metadata": {},
     "output_type": "execute_result"
    }
   ],
   "source": [
    "str(8)"
   ]
  },
  {
   "cell_type": "code",
   "execution_count": 8,
   "metadata": {},
   "outputs": [
    {
     "data": {
      "text/plain": [
       "2.0"
      ]
     },
     "execution_count": 8,
     "metadata": {},
     "output_type": "execute_result"
    }
   ],
   "source": [
    "# Convert to float\n",
    "float(2)"
   ]
  },
  {
   "cell_type": "code",
   "execution_count": 9,
   "metadata": {},
   "outputs": [
    {
     "data": {
      "text/plain": [
       "6.8"
      ]
     },
     "execution_count": 9,
     "metadata": {},
     "output_type": "execute_result"
    }
   ],
   "source": [
    "# Convert to float <- also works with strings!\n",
    "float('6.8')"
   ]
  },
  {
   "cell_type": "code",
   "execution_count": 10,
   "metadata": {},
   "outputs": [
    {
     "data": {
      "text/plain": [
       "'233'"
      ]
     },
     "execution_count": 10,
     "metadata": {},
     "output_type": "execute_result"
    }
   ],
   "source": [
    "# Convert to string \n",
    "str(233)"
   ]
  },
  {
   "cell_type": "code",
   "execution_count": 11,
   "metadata": {},
   "outputs": [
    {
     "data": {
      "text/plain": [
       "23300"
      ]
     },
     "execution_count": 11,
     "metadata": {},
     "output_type": "execute_result"
    }
   ],
   "source": [
    "233 * 100"
   ]
  },
  {
   "cell_type": "code",
   "execution_count": 13,
   "metadata": {},
   "outputs": [
    {
     "data": {
      "text/plain": [
       "23300"
      ]
     },
     "execution_count": 13,
     "metadata": {},
     "output_type": "execute_result"
    }
   ],
   "source": [
    "int('233') * 100"
   ]
  },
  {
   "cell_type": "markdown",
   "metadata": {},
   "source": [
    "- And, we used  `type` to find out the type of a given variable. "
   ]
  },
  {
   "cell_type": "code",
   "execution_count": 14,
   "metadata": {},
   "outputs": [
    {
     "data": {
      "text/plain": [
       "float"
      ]
     },
     "execution_count": 14,
     "metadata": {},
     "output_type": "execute_result"
    }
   ],
   "source": [
    "# Type for a float\n",
    "x = 1.99\n",
    "type(x)"
   ]
  },
  {
   "cell_type": "code",
   "execution_count": 15,
   "metadata": {},
   "outputs": [
    {
     "data": {
      "text/plain": [
       "str"
      ]
     },
     "execution_count": 15,
     "metadata": {},
     "output_type": "execute_result"
    }
   ],
   "source": [
    "# Type for a string \n",
    "y = 'abc'\n",
    "type(y)"
   ]
  },
  {
   "cell_type": "code",
   "execution_count": 16,
   "metadata": {},
   "outputs": [
    {
     "data": {
      "text/plain": [
       "list"
      ]
     },
     "execution_count": 16,
     "metadata": {},
     "output_type": "execute_result"
    }
   ],
   "source": [
    "# Type for a list\n",
    "z = ['a', True, 3]\n",
    "type(z)"
   ]
  },
  {
   "cell_type": "code",
   "execution_count": 17,
   "metadata": {},
   "outputs": [
    {
     "data": {
      "text/plain": [
       "bool"
      ]
     },
     "execution_count": 17,
     "metadata": {},
     "output_type": "execute_result"
    }
   ],
   "source": [
    "# Type for an element of a list\n",
    "type(z[1])"
   ]
  },
  {
   "cell_type": "code",
   "execution_count": 18,
   "metadata": {},
   "outputs": [
    {
     "data": {
      "text/plain": [
       "[str, bool, int]"
      ]
     },
     "execution_count": 18,
     "metadata": {},
     "output_type": "execute_result"
    }
   ],
   "source": [
    "# Type for all elements of a list \n",
    "[type(i) for i in z]"
   ]
  },
  {
   "cell_type": "code",
   "execution_count": 19,
   "metadata": {},
   "outputs": [
    {
     "data": {
      "text/plain": [
       "['a', True, 3]"
      ]
     },
     "execution_count": 19,
     "metadata": {},
     "output_type": "execute_result"
    }
   ],
   "source": [
    "z"
   ]
  },
  {
   "cell_type": "markdown",
   "metadata": {},
   "source": [
    "- In a variety of contexts, we also used the  `range` and `sorted` functions. "
   ]
  },
  {
   "cell_type": "code",
   "execution_count": 20,
   "metadata": {},
   "outputs": [
    {
     "data": {
      "text/plain": [
       "[-10, -8, -6, -4, -2, 0, 2, 4, 6, 8]"
      ]
     },
     "execution_count": 20,
     "metadata": {},
     "output_type": "execute_result"
    }
   ],
   "source": [
    "list(range(-10,10,2))"
   ]
  },
  {
   "cell_type": "code",
   "execution_count": 23,
   "metadata": {},
   "outputs": [
    {
     "data": {
      "text/plain": [
       "[3, 5, 9, 12, 23, 77]"
      ]
     },
     "execution_count": 23,
     "metadata": {},
     "output_type": "execute_result"
    }
   ],
   "source": [
    "# sorted() has a list as input and returns the list with the elements sorted\n",
    "sorted([5,23,3,77,9,12], \n",
    "       reverse=False)"
   ]
  },
  {
   "cell_type": "markdown",
   "metadata": {},
   "source": [
    "- You may also have seen the `round` function:"
   ]
  },
  {
   "cell_type": "code",
   "execution_count": 26,
   "metadata": {},
   "outputs": [
    {
     "data": {
      "text/plain": [
       "3.142"
      ]
     },
     "execution_count": 26,
     "metadata": {},
     "output_type": "execute_result"
    }
   ],
   "source": [
    "round(3.14159, 3) "
   ]
  },
  {
   "cell_type": "markdown",
   "metadata": {},
   "source": [
    "The list at https://docs.python.org/3/library/functions.html contains all the built-in functions of Python.    \n",
    "**As a general rule of thumb, avoid using these bult-in function names as variable names.**"
   ]
  },
  {
   "cell_type": "markdown",
   "metadata": {},
   "source": [
    "### Functions from Libraries\n",
    "\n",
    "We can also add more functions by `import`-ing libraries. For example, we can import the `math` library. "
   ]
  },
  {
   "cell_type": "code",
   "execution_count": 28,
   "metadata": {},
   "outputs": [],
   "source": [
    "import math"
   ]
  },
  {
   "cell_type": "code",
   "execution_count": 31,
   "metadata": {},
   "outputs": [
    {
     "data": {
      "text/plain": [
       "2322345.0"
      ]
     },
     "execution_count": 31,
     "metadata": {},
     "output_type": "execute_result"
    }
   ],
   "source": [
    "# math.fabs returns the absolute value\n",
    "math.fabs(2322345)"
   ]
  },
  {
   "cell_type": "code",
   "execution_count": 32,
   "metadata": {},
   "outputs": [
    {
     "data": {
      "text/plain": [
       "120"
      ]
     },
     "execution_count": 32,
     "metadata": {},
     "output_type": "execute_result"
    }
   ],
   "source": [
    "# math.fabs takes the factorial\n",
    "math.factorial(5)"
   ]
  },
  {
   "cell_type": "code",
   "execution_count": 33,
   "metadata": {},
   "outputs": [
    {
     "data": {
      "text/plain": [
       "True"
      ]
     },
     "execution_count": 33,
     "metadata": {},
     "output_type": "execute_result"
    }
   ],
   "source": [
    "math.factorial(5)  ==  5*4*3*2*1"
   ]
  },
  {
   "cell_type": "markdown",
   "metadata": {},
   "source": [
    "Another commonly used library is the `random` library that returns random numbers."
   ]
  },
  {
   "cell_type": "code",
   "execution_count": 34,
   "metadata": {},
   "outputs": [],
   "source": [
    "import random"
   ]
  },
  {
   "cell_type": "code",
   "execution_count": 49,
   "metadata": {},
   "outputs": [
    {
     "data": {
      "text/plain": [
       "13"
      ]
     },
     "execution_count": 49,
     "metadata": {},
     "output_type": "execute_result"
    }
   ],
   "source": [
    "random.randint(0,50) # Draw a random number"
   ]
  },
  {
   "cell_type": "code",
   "execution_count": 40,
   "metadata": {
    "scrolled": true
   },
   "outputs": [
    {
     "name": "stdout",
     "output_type": "stream",
     "text": [
      "0.092\n",
      "0.22\n",
      "0.821\n",
      "0.219\n",
      "0.814\n",
      "0.438\n",
      "0.644\n",
      "0.868\n",
      "0.101\n",
      "0.578\n"
     ]
    }
   ],
   "source": [
    "# random.random() returns random values from 0 to 1\n",
    "for i in range(10):\n",
    "    print(round(random.random(), 3))"
   ]
  },
  {
   "cell_type": "code",
   "execution_count": 54,
   "metadata": {},
   "outputs": [
    {
     "name": "stdout",
     "output_type": "stream",
     "text": [
      "d\n",
      "d\n",
      "d\n",
      "c\n",
      "d\n",
      "d\n",
      "a\n",
      "d\n",
      "c\n",
      "d\n"
     ]
    }
   ],
   "source": [
    "#random.choice() can be used to select items from a list\n",
    "for i in range(10):\n",
    "    print(random.choice(['a','b','c','d']))"
   ]
  },
  {
   "cell_type": "markdown",
   "metadata": {},
   "source": [
    "And, you have seen the `time` package"
   ]
  },
  {
   "cell_type": "code",
   "execution_count": 56,
   "metadata": {},
   "outputs": [
    {
     "name": "stdout",
     "output_type": "stream",
     "text": [
      "hello\n",
      "i'm done\n"
     ]
    }
   ],
   "source": [
    "import time\n",
    "print(\"hello\")\n",
    "time.sleep(5)\n",
    "print(\"i'm done\")"
   ]
  },
  {
   "cell_type": "markdown",
   "metadata": {},
   "source": [
    "### User Defined Functions\n",
    "\n",
    "\n",
    "** See also Examples 18, 19, 20, and 21 from Learn Python the Hard Way **\n",
    "\n",
    "Functions assign a name to a block of code the way that variables assign names to bits of data. This seemingly benign naming of things is incredibly powerful; allowing one to reuse common functionality over and over. Well-tested functions form building blocks for large, complex systems. As you progress through Python, you'll find yourself using powerful functions defined in some of Python's vast libraries of code. \n",
    "\n"
   ]
  },
  {
   "cell_type": "markdown",
   "metadata": {},
   "source": [
    "Function definitions begin with the `def` keyword, followed by the name you wish to assign to a function. Following this name are parentheses, `( )`, containing zero or more variable names, those values that are passed into the function. There is then a colon, followed by a code block defining the actions of the function:\n",
    "\n",
    "    def function_name(function_input)\n",
    "        ... function actions ..."
   ]
  },
  {
   "cell_type": "markdown",
   "metadata": {},
   "source": [
    "#### Printing \"Hi\"\n",
    "\n",
    "Let's start by looking at a function that performs a set of steps."
   ]
  },
  {
   "cell_type": "code",
   "execution_count": 60,
   "metadata": {},
   "outputs": [],
   "source": [
    "def print_hi(i):\n",
    "    print(i, \"hi!\")"
   ]
  },
  {
   "cell_type": "code",
   "execution_count": 62,
   "metadata": {},
   "outputs": [
    {
     "name": "stdout",
     "output_type": "stream",
     "text": [
      "9 hi!\n"
     ]
    }
   ],
   "source": [
    "print_hi(i)"
   ]
  },
  {
   "cell_type": "code",
   "execution_count": 74,
   "metadata": {},
   "outputs": [
    {
     "name": "stdout",
     "output_type": "stream",
     "text": [
      "Now, i=cat\n",
      "Now, i=dog\n",
      "Now, i=parrot\n"
     ]
    }
   ],
   "source": [
    "x=0\n",
    "for i in ['cat', 'dog', 'parrot']:\n",
    "    print(f\"Now, i={i}\")"
   ]
  },
  {
   "cell_type": "code",
   "execution_count": 75,
   "metadata": {},
   "outputs": [
    {
     "name": "stdout",
     "output_type": "stream",
     "text": [
      "Now, i=parrot\n"
     ]
    }
   ],
   "source": [
    "print(f\"Now, i={i}\")"
   ]
  },
  {
   "cell_type": "markdown",
   "metadata": {},
   "source": [
    "* Of course, most functions have also one or more _parameters_. For example, the function below will accept the name as a parameter, and then print out the message \"HI _name_\", where _name_ is the value of the parameter that we pass to the function. The function will also convert the _name_ into uppercase:"
   ]
  },
  {
   "cell_type": "code",
   "execution_count": 78,
   "metadata": {},
   "outputs": [],
   "source": [
    "def hi_you(name):\n",
    "    '''\n",
    "    This function takes as input/parameter the variable name\n",
    "    And then prints in the screen the message \n",
    "    HI <NAME>! \n",
    "    where <NAME> is the content of the name variable converted to uppercase\n",
    "    '''\n",
    "    print(\"HI\", name.upper())"
   ]
  },
  {
   "cell_type": "code",
   "execution_count": 82,
   "metadata": {},
   "outputs": [
    {
     "name": "stdout",
     "output_type": "stream",
     "text": [
      "HI FRED AND MARY\n"
     ]
    }
   ],
   "source": [
    "hi_you(\"FRED and Mary\")"
   ]
  },
  {
   "cell_type": "code",
   "execution_count": 84,
   "metadata": {},
   "outputs": [
    {
     "name": "stdout",
     "output_type": "stream",
     "text": [
      "HI PANOS\n",
      "HI PETER\n",
      "HI KYLIE\n",
      "HI JENNIFER\n",
      "HI ELENA\n"
     ]
    }
   ],
   "source": [
    "names = ['Panos', 'Peter', 'Kylie', 'Jennifer', 'Elena']\n",
    "for n in names:\n",
    "    hi_you(n)"
   ]
  },
  {
   "cell_type": "markdown",
   "metadata": {},
   "source": [
    "* Let's modify the `hi_you` to take as input a *list* of names and print out all of them "
   ]
  },
  {
   "cell_type": "code",
   "execution_count": 88,
   "metadata": {},
   "outputs": [],
   "source": [
    "def hi_you_all(list_of_names):\n",
    "    '''\n",
    "    This function takes as input/parameter list_of_names\n",
    "    And then prints in the screen the message \n",
    "    HI <NAME>! \n",
    "    for all the names in the list_of_names.\n",
    "    \n",
    "    The paramater 'names' is a list of strings, with every string\n",
    "    being a name that we want to print out\n",
    "    '''\n",
    "    for name in list_of_names:\n",
    "        print(\"HI, great day isn't it?\", name.upper(), \"!\")\n",
    "        # Alternatively, we could reuse the function hi_you(name)\n",
    "        # hi_you(name)"
   ]
  },
  {
   "cell_type": "code",
   "execution_count": 90,
   "metadata": {},
   "outputs": [
    {
     "name": "stdout",
     "output_type": "stream",
     "text": [
      "HI, great day isn't it? AMY !\n",
      "HI, great day isn't it? ANNA !\n",
      "HI, great day isn't it? LAURA !\n"
     ]
    }
   ],
   "source": [
    "hi_you_all([\"amy\", \"anna\", \"laura\"])"
   ]
  },
  {
   "cell_type": "code",
   "execution_count": 91,
   "metadata": {},
   "outputs": [
    {
     "name": "stdout",
     "output_type": "stream",
     "text": [
      "HI, great day isn't it? PANOS !\n",
      "HI, great day isn't it? PETER !\n",
      "HI, great day isn't it? KYLIE !\n",
      "HI, great day isn't it? JENNIFER !\n",
      "HI, great day isn't it? ELENA !\n"
     ]
    }
   ],
   "source": [
    "names = ['Panos', 'Peter', 'Kylie', 'Jennifer', 'Elena']\n",
    "hi_you_all(names)"
   ]
  },
  {
   "cell_type": "markdown",
   "metadata": {},
   "source": [
    "#### The `return` statement \n",
    "\n",
    "Example of computing a math function"
   ]
  },
  {
   "cell_type": "code",
   "execution_count": 129,
   "metadata": {},
   "outputs": [],
   "source": [
    "# The functions are often designed to **return** the\n",
    "# result of a computation/operation\n",
    "def square(num):\n",
    "    squared = num*num\n",
    "    print(\"Square is,\",squared)\n",
    "    return squared"
   ]
  },
  {
   "cell_type": "code",
   "execution_count": 130,
   "metadata": {},
   "outputs": [
    {
     "name": "stdout",
     "output_type": "stream",
     "text": [
      "Square is, 4\n"
     ]
    },
    {
     "data": {
      "text/plain": [
       "4"
      ]
     },
     "execution_count": 130,
     "metadata": {},
     "output_type": "execute_result"
    }
   ],
   "source": [
    "square(2)"
   ]
  },
  {
   "cell_type": "code",
   "execution_count": 131,
   "metadata": {},
   "outputs": [
    {
     "name": "stdout",
     "output_type": "stream",
     "text": [
      "Square is, 4\n"
     ]
    }
   ],
   "source": [
    "x = ?"
   ]
  },
  {
   "cell_type": "code",
   "execution_count": 103,
   "metadata": {},
   "outputs": [
    {
     "data": {
      "text/plain": [
       "49"
      ]
     },
     "execution_count": 103,
     "metadata": {},
     "output_type": "execute_result"
    }
   ],
   "source": [
    "x = square(7)\n",
    "x"
   ]
  },
  {
   "cell_type": "code",
   "execution_count": 104,
   "metadata": {},
   "outputs": [
    {
     "name": "stdout",
     "output_type": "stream",
     "text": [
      "9\n"
     ]
    }
   ],
   "source": [
    "x = square(3) # notice that square RETURNS a value that \n",
    "              # we store in variable x \n",
    "              # this is in contrast to hi_you and hi_you_all\n",
    "              # that just printed out messages on the screen\n",
    "print(x)"
   ]
  },
  {
   "cell_type": "code",
   "execution_count": 105,
   "metadata": {},
   "outputs": [
    {
     "name": "stdout",
     "output_type": "stream",
     "text": [
      "The square of 0 is 0\n",
      "The square of 1 is 1\n",
      "The square of 2 is 4\n",
      "The square of 3 is 9\n",
      "The square of 4 is 16\n",
      "The square of 5 is 25\n",
      "The square of 6 is 36\n",
      "The square of 7 is 49\n",
      "The square of 8 is 64\n",
      "The square of 9 is 81\n",
      "The square of 10 is 100\n",
      "The square of 11 is 121\n",
      "The square of 12 is 144\n",
      "The square of 13 is 169\n",
      "The square of 14 is 196\n"
     ]
    }
   ],
   "source": [
    "for i in range(15):\n",
    "    print(f\"The square of {i} is {square(i)}\")"
   ]
  },
  {
   "cell_type": "markdown",
   "metadata": {},
   "source": [
    "Note that the function `square` has a special keyword `return`. The argument to return is passed to whatever piece of code is calling the function. In this case, the square of the number that was input. "
   ]
  },
  {
   "cell_type": "markdown",
   "metadata": {},
   "source": [
    "#### Solving the quadratic equation\n",
    "\n",
    "Here is another example of a function, for solving the quadratic equation \n",
    "$$ a*x^2 + b*x + c = 0$$\n",
    "Recall that the quadratic formula is:\n",
    "$$ x = \\frac{-b \\pm \\sqrt{b^2 - 4ac}}{2a}$$"
   ]
  },
  {
   "cell_type": "code",
   "execution_count": 134,
   "metadata": {},
   "outputs": [],
   "source": [
    "import math\n",
    "\n",
    "a = 4\n",
    "b = -32\n",
    "c = 1"
   ]
  },
  {
   "cell_type": "code",
   "execution_count": 135,
   "metadata": {},
   "outputs": [
    {
     "name": "stdout",
     "output_type": "stream",
     "text": [
      "Solution 1: 7.969\n",
      "Solution 2: 0.031\n"
     ]
    }
   ],
   "source": [
    "# We want to solve the quadratic equation a*x^2 + b*x + c = 0 \n",
    "\n",
    "# We have two solutions:\n",
    "s1 = (-b + math.sqrt(b**2 - 4*a*c) )  / (2*a)       \n",
    "s2 = (-b - math.sqrt(b**2 - 4*a*c) )  / (2*a)       \n",
    "\n",
    "print(f\"Solution 1: {s1:.3f}\")\n",
    "print(f\"Solution 2: {s2:.3f}\")"
   ]
  },
  {
   "cell_type": "markdown",
   "metadata": {},
   "source": [
    "Let's see an example of how a function can return \"multivalued\" results using tuples/lists."
   ]
  },
  {
   "cell_type": "code",
   "execution_count": 165,
   "metadata": {},
   "outputs": [],
   "source": [
    "def quadratic(a,b,c) :       # Function takes a,b,c as input\n",
    "\n",
    "    s1 = (-b + math.sqrt(b**2 - 4*a*c))/(2*a)   \n",
    "    s2 = (-b - math.sqrt(b**2 - 4*a*c))/(2*a)   \n",
    "    \n",
    "    print(s1,s2,\"are the answers\")\n",
    "    return s1, s2  # Note that we can return multiple things\n",
    "                    # The \"return\" value does not have to be a single value\n",
    "                    # A function can even return a list, tuple, dictionary, etc."
   ]
  },
  {
   "cell_type": "code",
   "execution_count": 166,
   "metadata": {},
   "outputs": [
    {
     "name": "stdout",
     "output_type": "stream",
     "text": [
      "7.9686269665968865 0.031373033403113926 are the answers\n"
     ]
    }
   ],
   "source": [
    "x = quadratic(a,b,c)"
   ]
  },
  {
   "cell_type": "code",
   "execution_count": 167,
   "metadata": {},
   "outputs": [
    {
     "data": {
      "text/plain": [
       "(7.9686269665968865, 0.031373033403113926)"
      ]
     },
     "execution_count": 167,
     "metadata": {},
     "output_type": "execute_result"
    }
   ],
   "source": [
    "x"
   ]
  },
  {
   "cell_type": "code",
   "execution_count": 169,
   "metadata": {},
   "outputs": [
    {
     "name": "stdout",
     "output_type": "stream",
     "text": [
      "7.9686269665968865 0.031373033403113926 are the answers\n",
      "Solutions: (7.9686269665968865, 0.031373033403113926)\n",
      "Solutions: 7.9686269665968865\n",
      "Solutions: 0.031373033403113926\n"
     ]
    }
   ],
   "source": [
    "# Observe that the function returns a tuple with s1 and s2\n",
    "sol = quadratic(a,b,c)\n",
    "\n",
    "print(\"Solutions:\", sol )\n",
    "print(\"Solutions:\", sol[0] )\n",
    "print(\"Solutions:\", sol[1] )"
   ]
  },
  {
   "cell_type": "code",
   "execution_count": 171,
   "metadata": {},
   "outputs": [
    {
     "name": "stdout",
     "output_type": "stream",
     "text": [
      "7.9686269665968865 0.031373033403113926 are the answers\n",
      "Solutions: 7.9686269665968865\n",
      "Solutions: 0.031373033403113926\n"
     ]
    }
   ],
   "source": [
    "# If we want, we can even assign a value to each item returned, like so:\n",
    "sol1, sol2 = quadratic(a,b,c)\n",
    "\n",
    "print(\"Solutions:\", sol1 )\n",
    "print(\"Solutions:\", sol2 )"
   ]
  },
  {
   "cell_type": "code",
   "execution_count": 172,
   "metadata": {},
   "outputs": [
    {
     "name": "stdout",
     "output_type": "stream",
     "text": [
      "7.9686269665968865 0.031373033403113926 are the answers\n"
     ]
    }
   ],
   "source": [
    "x1, x2 = quadratic(a,b,c)"
   ]
  },
  {
   "cell_type": "code",
   "execution_count": 173,
   "metadata": {},
   "outputs": [
    {
     "data": {
      "text/plain": [
       "7.9686269665968865"
      ]
     },
     "execution_count": 173,
     "metadata": {},
     "output_type": "execute_result"
    }
   ],
   "source": [
    "x1"
   ]
  },
  {
   "cell_type": "code",
   "execution_count": 174,
   "metadata": {},
   "outputs": [
    {
     "data": {
      "text/plain": [
       "0.031373033403113926"
      ]
     },
     "execution_count": 174,
     "metadata": {},
     "output_type": "execute_result"
    }
   ],
   "source": [
    "x2"
   ]
  },
  {
   "cell_type": "code",
   "execution_count": 175,
   "metadata": {},
   "outputs": [],
   "source": [
    "x, y = 1, 2"
   ]
  },
  {
   "cell_type": "code",
   "execution_count": 176,
   "metadata": {},
   "outputs": [
    {
     "data": {
      "text/plain": [
       "1"
      ]
     },
     "execution_count": 176,
     "metadata": {},
     "output_type": "execute_result"
    }
   ],
   "source": [
    "x"
   ]
  },
  {
   "cell_type": "code",
   "execution_count": 177,
   "metadata": {},
   "outputs": [
    {
     "data": {
      "text/plain": [
       "2"
      ]
     },
     "execution_count": 177,
     "metadata": {},
     "output_type": "execute_result"
    }
   ],
   "source": [
    "y"
   ]
  },
  {
   "cell_type": "code",
   "execution_count": 185,
   "metadata": {},
   "outputs": [],
   "source": [
    "def flowers():\n",
    "    return ['roses', 'lilies', 'peonies', \"sunflowers\"]"
   ]
  },
  {
   "cell_type": "code",
   "execution_count": 186,
   "metadata": {},
   "outputs": [
    {
     "data": {
      "text/plain": [
       "['roses', 'lilies', 'peonies', 'sunflowers']"
      ]
     },
     "execution_count": 186,
     "metadata": {},
     "output_type": "execute_result"
    }
   ],
   "source": [
    "f = flowers() # Call the flower function, which returns a list\n",
    "f"
   ]
  },
  {
   "cell_type": "code",
   "execution_count": 188,
   "metadata": {},
   "outputs": [
    {
     "data": {
      "text/plain": [
       "'roses'"
      ]
     },
     "execution_count": 188,
     "metadata": {},
     "output_type": "execute_result"
    }
   ],
   "source": [
    "x,y,z,w= flowers()\n",
    "x"
   ]
  },
  {
   "cell_type": "code",
   "execution_count": 193,
   "metadata": {},
   "outputs": [
    {
     "data": {
      "text/plain": [
       "4"
      ]
     },
     "execution_count": 193,
     "metadata": {},
     "output_type": "execute_result"
    }
   ],
   "source": [
    "a"
   ]
  },
  {
   "cell_type": "code",
   "execution_count": 194,
   "metadata": {},
   "outputs": [
    {
     "data": {
      "text/plain": [
       "'roses'"
      ]
     },
     "execution_count": 194,
     "metadata": {},
     "output_type": "execute_result"
    }
   ],
   "source": [
    "a,b,c,d = f\n",
    "a"
   ]
  },
  {
   "cell_type": "code",
   "execution_count": 196,
   "metadata": {},
   "outputs": [
    {
     "data": {
      "text/plain": [
       "['roses', 'lilies', 'peonies', 'sunflowers']"
      ]
     },
     "execution_count": 196,
     "metadata": {},
     "output_type": "execute_result"
    }
   ],
   "source": [
    "f"
   ]
  },
  {
   "cell_type": "code",
   "execution_count": 198,
   "metadata": {},
   "outputs": [],
   "source": [
    "x = 7"
   ]
  },
  {
   "cell_type": "code",
   "execution_count": 199,
   "metadata": {},
   "outputs": [
    {
     "data": {
      "text/plain": [
       "7"
      ]
     },
     "execution_count": 199,
     "metadata": {},
     "output_type": "execute_result"
    }
   ],
   "source": [
    "x"
   ]
  },
  {
   "cell_type": "code",
   "execution_count": 200,
   "metadata": {},
   "outputs": [],
   "source": [
    "h, l = [\"hi\", \"low\"]"
   ]
  },
  {
   "cell_type": "code",
   "execution_count": 201,
   "metadata": {},
   "outputs": [
    {
     "data": {
      "text/plain": [
       "'hi'"
      ]
     },
     "execution_count": 201,
     "metadata": {},
     "output_type": "execute_result"
    }
   ],
   "source": [
    "h"
   ]
  },
  {
   "cell_type": "code",
   "execution_count": null,
   "metadata": {},
   "outputs": [],
   "source": [
    "# We can even check that the value of the discriminant\n",
    "# is positive before returning a result\n",
    "\n",
    "def quadratic(a,b,c):\n",
    "    \n",
    "    discr = b**2 - 4*a*c\n",
    "    if discr < 0:          #  We will not compute \n",
    "        return None        # \"None\" is a special value, meaning \"nothing\"\n",
    "    \n",
    "    s1 = (-b + math.sqrt(b**2 - 4*a*c))/(2*a)   \n",
    "    s2 = (-b - math.sqrt(b**2 - 4*a*c))/(2*a)   \n",
    "    \n",
    "    return s1, s2  "
   ]
  },
  {
   "cell_type": "code",
   "execution_count": null,
   "metadata": {},
   "outputs": [],
   "source": [
    "quadratic(6,1,9)"
   ]
  },
  {
   "cell_type": "code",
   "execution_count": null,
   "metadata": {},
   "outputs": [],
   "source": [
    "quadratic(6,27,9)"
   ]
  },
  {
   "cell_type": "code",
   "execution_count": 208,
   "metadata": {},
   "outputs": [],
   "source": [
    "## A COMMON MISTAKE:\n",
    "# Using multiple return statements\n",
    "# Why? After we execute the first return, \n",
    "# we do not execute anything below that\n",
    "def quadratic_s1_only(a, b, c):\n",
    "    \n",
    "    discr = b**2 - 4*a*c\n",
    "    if discr < 0:          #  We will not compute \n",
    "        return None        # \"None\" is a special value, meaning \"nothing\"\n",
    "    \n",
    "    \n",
    "    s1 = (-b + math.sqrt(b**2 - 4*a*c))/(2*a)   \n",
    "    s2 = (-b - math.sqrt(b**2 - 4*a*c))/(2*a)   \n",
    "    \n",
    "    return s1, s2 # solution 1 \n",
    "    return s2 # solution 2, BUT this will never be executed"
   ]
  },
  {
   "cell_type": "code",
   "execution_count": 209,
   "metadata": {},
   "outputs": [
    {
     "data": {
      "text/plain": [
       "(7.9686269665968865, 0.031373033403113926)"
      ]
     },
     "execution_count": 209,
     "metadata": {},
     "output_type": "execute_result"
    }
   ],
   "source": [
    "a = 4\n",
    "b = -32\n",
    "c = 1\n",
    "quadratic_s1_only(a, b, c)"
   ]
  },
  {
   "cell_type": "markdown",
   "metadata": {},
   "source": [
    "#### Example function: Cleaning up a string\n",
    "We can use the `string` library to get a list of all letters by typing `string.ascii_letters`."
   ]
  },
  {
   "cell_type": "code",
   "execution_count": null,
   "metadata": {},
   "outputs": [],
   "source": [
    "# This code prints all the letters in the alphabet\n",
    "import string\n",
    "string.ascii_letters"
   ]
  },
  {
   "cell_type": "code",
   "execution_count": null,
   "metadata": {},
   "outputs": [],
   "source": [
    "# this function takes as input a phone string variable\n",
    "# and removes anything that is not a letter or space\n",
    "\n",
    "def clean(text):\n",
    "    result   = \"\"\n",
    "    letters  = string.ascii_letters + \" \"\n",
    "    for c in text:  \n",
    "        if c in letters:\n",
    "            result = result + c\n",
    "    return result        "
   ]
  },
  {
   "cell_type": "code",
   "execution_count": null,
   "metadata": {},
   "outputs": [],
   "source": [
    "p = \"(800) 555-1214 Phone number\"\n",
    "print(clean(p))"
   ]
  },
  {
   "cell_type": "markdown",
   "metadata": {},
   "source": [
    "#### Exercises\n",
    "\n",
    "* Write a function `in_range` that checks if a number `n` is within a given range `(a,b)` and returns True or False. The function takes n, a, and b as parameters.\n",
    "\n"
   ]
  },
  {
   "cell_type": "code",
   "execution_count": 221,
   "metadata": {},
   "outputs": [
    {
     "name": "stdout",
     "output_type": "stream",
     "text": [
      "5 is small, but is not in the range (10,40)\n",
      "5  not in the range (10,40)\n"
     ]
    }
   ],
   "source": [
    "n = 5\n",
    "a = 10\n",
    "b = 40\n",
    "\n",
    "if n>a and n<b:\n",
    "    print(f\"{n} is in range ({a},{b})\")\n",
    "elif n<6:\n",
    "    print(f\"{n} is small, but is not in the range ({a},{b})\")\n",
    "if n<=a or n>=b: \n",
    "    print(f\"{n}  not in the range ({a},{b})\")"
   ]
  },
  {
   "cell_type": "code",
   "execution_count": 215,
   "metadata": {},
   "outputs": [
    {
     "name": "stdout",
     "output_type": "stream",
     "text": [
      "It's monday\n"
     ]
    }
   ],
   "source": [
    "x = \"monday\"\n",
    "\n",
    "if x == \"tuesday\":\n",
    "    print (\"It's tuesday\")\n",
    "elif x == \"monday\":\n",
    "    print(\"It's monday\")\n",
    "else:\n",
    "    print(\"It's not monday or tuesday\")"
   ]
  },
  {
   "cell_type": "code",
   "execution_count": 222,
   "metadata": {},
   "outputs": [],
   "source": [
    "n = 5\n",
    "a = 10\n",
    "b = 40\n",
    "\n",
    "if n>a and n<b:\n",
    "    print(f\"{n} is in range ({a},{b})\")"
   ]
  },
  {
   "cell_type": "code",
   "execution_count": 226,
   "metadata": {},
   "outputs": [],
   "source": [
    "def in_range(a,b,n):\n",
    "    # This function checks if n is in (a , b)\n",
    "    if n>a and n<b:\n",
    "        print(f\"{n} is in range ({a},{b})\")\n",
    "        return True\n",
    "    else:\n",
    "        return False"
   ]
  },
  {
   "cell_type": "code",
   "execution_count": 228,
   "metadata": {},
   "outputs": [
    {
     "data": {
      "text/plain": [
       "False"
      ]
     },
     "execution_count": 228,
     "metadata": {},
     "output_type": "execute_result"
    }
   ],
   "source": [
    "in_range(5,10,1)"
   ]
  },
  {
   "cell_type": "markdown",
   "metadata": {},
   "source": [
    "**Answer:** <span style=\"color:white\">\n",
    "def in_range(n, a, b):\n",
    "    if n>a and n<b:\n",
    "        return True\n",
    "    else:\n",
    "        return False"
   ]
  },
  {
   "cell_type": "markdown",
   "metadata": {},
   "source": [
    "* Write a `dedup` function that takes as input a list and returns back another list, with only unique elements and sorted. For example, if the input is `[1,2,5,5,5,3,3,3,3,4,5]` the returned list should be `[1, 2, 3, 4, 5]`. If the input is `['New York', 'New York',  'Paris', 'London', 'Paris']` the returned list should be `['London', 'New York', 'Paris']`."
   ]
  },
  {
   "cell_type": "code",
   "execution_count": null,
   "metadata": {},
   "outputs": [],
   "source": [
    "list1 = [1,2,5,5,5,3,3,3,3,4,5]\n",
    "list2 = ['New York', 'New York',  'Paris', 'London', 'Paris']\n",
    "\n",
    "# Your function here"
   ]
  },
  {
   "cell_type": "markdown",
   "metadata": {},
   "source": [
    "**Answer:** <span style=\"color:white\">\n",
    "def dedup(l):\n",
    "    return sorted(list(set(l)))"
   ]
  },
  {
   "cell_type": "markdown",
   "metadata": {},
   "source": [
    "- Write a function to test whether two strings are equal, ignoring capitalization."
   ]
  },
  {
   "cell_type": "code",
   "execution_count": 231,
   "metadata": {},
   "outputs": [],
   "source": [
    "# Your function here\n",
    "def are_equal(s1, s2):\n",
    "    if s1.lower() == s2.lower():\n",
    "        return True\n",
    "        return \"what?!?!\" # The function never gets this far\n",
    "    else:\n",
    "        return False"
   ]
  },
  {
   "cell_type": "code",
   "execution_count": 233,
   "metadata": {},
   "outputs": [
    {
     "data": {
      "text/plain": [
       "False"
      ]
     },
     "execution_count": 233,
     "metadata": {},
     "output_type": "execute_result"
    }
   ],
   "source": [
    "are_equal(\"hi\", \"HI!\")"
   ]
  },
  {
   "cell_type": "markdown",
   "metadata": {},
   "source": [
    "**Answer**: <span style=\"color:white\">\n",
    "def are_equal(s1,s2):\n",
    "    if s1.lower() == s2.lower():\n",
    "        return True\n",
    "    else:\n",
    "        return False    \n",
    "are_equal(\"potato\", \"PoTATo\")\n",
    "are_equal(\"potato\", \"PoTAToes\")"
   ]
  },
  {
   "cell_type": "markdown",
   "metadata": {},
   "source": [
    "* Write a function that generates a random password with `n` letters. The value `n` should be a parameter."
   ]
  },
  {
   "cell_type": "code",
   "execution_count": 246,
   "metadata": {},
   "outputs": [
    {
     "data": {
      "text/plain": [
       "'q'"
      ]
     },
     "execution_count": 246,
     "metadata": {},
     "output_type": "execute_result"
    }
   ],
   "source": [
    "# This code generates one random letter\n",
    "import random\n",
    "import string\n",
    "random.choice(string.ascii_letters)\n",
    "\n",
    "# Your function here"
   ]
  },
  {
   "cell_type": "code",
   "execution_count": 247,
   "metadata": {
    "scrolled": true
   },
   "outputs": [
    {
     "data": {
      "text/plain": [
       "'abcdefghijklmnopqrstuvwxyzABCDEFGHIJKLMNOPQRSTUVWXYZ'"
      ]
     },
     "execution_count": 247,
     "metadata": {},
     "output_type": "execute_result"
    }
   ],
   "source": [
    "string.ascii_letters"
   ]
  },
  {
   "cell_type": "code",
   "execution_count": 248,
   "metadata": {},
   "outputs": [
    {
     "data": {
      "text/plain": [
       "5"
      ]
     },
     "execution_count": 248,
     "metadata": {},
     "output_type": "execute_result"
    }
   ],
   "source": [
    "def gen_password(n):\n",
    "    \n",
    "    #Something with random.choice(string.ascii_letters)"
   ]
  },
  {
   "cell_type": "code",
   "execution_count": 293,
   "metadata": {},
   "outputs": [],
   "source": [
    "def password(n):\n",
    "\n",
    "    password = []\n",
    "    for i in range(0,n):\n",
    "        x = random.randint(0,10) # Take a letter, call it x\n",
    "        x = str(x)\n",
    "        #print(f\"Password starts as...{password}, we call append with argument {x}\")\n",
    "        password.extend([x, \"_\"]) # Add x to the password list\n",
    "        \n",
    "        #print(f\">>  Password ends as...{password}\")\n",
    "        # print(password) # What is the list, so far?\n",
    "\n",
    "    return ''.join(password)"
   ]
  },
  {
   "cell_type": "code",
   "execution_count": 294,
   "metadata": {},
   "outputs": [
    {
     "data": {
      "text/plain": [
       "'5_2_9_2_10_4_4_0_1_1_8_2_10_1_5_0_2_7_9_10_'"
      ]
     },
     "execution_count": 294,
     "metadata": {},
     "output_type": "execute_result"
    }
   ],
   "source": [
    "password(20)"
   ]
  },
  {
   "cell_type": "code",
   "execution_count": null,
   "metadata": {},
   "outputs": [],
   "source": [
    "'RomgDR'"
   ]
  },
  {
   "cell_type": "markdown",
   "metadata": {},
   "source": [
    "**Answer:** <span style=\"color:white\">\n",
    "def random_letter():\n",
    "    return random.choice(string.ascii_letters)\n",
    "def random_password(n):\n",
    "    password = ''\n",
    "    for i in range(0,n):\n",
    "        password+= random_letter()\n",
    "    return password    "
   ]
  }
 ],
 "metadata": {
  "kernelspec": {
   "display_name": "Python 3",
   "language": "python",
   "name": "python3"
  },
  "language_info": {
   "codemirror_mode": {
    "name": "ipython",
    "version": 3
   },
   "file_extension": ".py",
   "mimetype": "text/x-python",
   "name": "python",
   "nbconvert_exporter": "python",
   "pygments_lexer": "ipython3",
   "version": "3.6.5"
  }
 },
 "nbformat": 4,
 "nbformat_minor": 1
}
