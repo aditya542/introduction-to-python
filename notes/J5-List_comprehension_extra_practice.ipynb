{
 "cells": [
  {
   "cell_type": "markdown",
   "metadata": {},
   "source": [
    "# List comprehension practice\n",
    "## 1. Stemming words"
   ]
  },
  {
   "cell_type": "markdown",
   "metadata": {},
   "source": [
    "Consider the following list of activities."
   ]
  },
  {
   "cell_type": "code",
   "execution_count": 2,
   "metadata": {},
   "outputs": [],
   "source": [
    "activities = ['running', 'jumping', 'shouting', 'dancing', 'singing', 'eating', 'reading']"
   ]
  },
  {
   "cell_type": "markdown",
   "metadata": {},
   "source": [
    "In this exercise, we will:\n",
    "- remove the `ing` from the end of every activity\n",
    "- add a dash `-` to each activity\n",
    "- sort the result\n",
    "- join the activities into a single string using the delimiter `|`\n",
    "\n",
    "To start, I have added a simple comprehension that just copies the list.    \n",
    "- `for a in activities`, it returns `a`"
   ]
  },
  {
   "cell_type": "code",
   "execution_count": 4,
   "metadata": {},
   "outputs": [
    {
     "data": {
      "text/plain": [
       "['running', 'jumping', 'shouting', 'dancing', 'singing', 'eating', 'reading']"
      ]
     },
     "execution_count": 4,
     "metadata": {},
     "output_type": "execute_result"
    }
   ],
   "source": [
    "# The following list comprehension just returns every activity in the list of activities\n",
    "[a for a in activities]"
   ]
  },
  {
   "cell_type": "markdown",
   "metadata": {},
   "source": [
    "1. Modify the comprehension so it returns every activity with the last three letters removed. You'll want to get:   \n",
    "\n",
    "        ['runn', 'jump', 'shout', 'danc', 'sing', 'eat', 'read']"
   ]
  },
  {
   "cell_type": "code",
   "execution_count": 18,
   "metadata": {},
   "outputs": [
    {
     "data": {
      "text/plain": [
       "['r', 'j', 'h', 'd', 's', 'r']"
      ]
     },
     "execution_count": 18,
     "metadata": {},
     "output_type": "execute_result"
    }
   ],
   "source": [
    "# Copy comprehension above, modify to remove last three letters\n",
    "[a[-7] for a in activities if len(a)>=7]"
   ]
  },
  {
   "cell_type": "code",
   "execution_count": 19,
   "metadata": {},
   "outputs": [
    {
     "data": {
      "text/plain": [
       "['runn', 'jump', 'shout', 'danc', 'sing', 'eat', 'read']"
      ]
     },
     "execution_count": 19,
     "metadata": {},
     "output_type": "execute_result"
    }
   ],
   "source": [
    "[a[:-3] for a in activities]"
   ]
  },
  {
   "cell_type": "markdown",
   "metadata": {},
   "source": [
    "**Answer:** <span style=\"color:white\"> [a[:-3] for a in activities]"
   ]
  },
  {
   "cell_type": "markdown",
   "metadata": {},
   "source": [
    "2. Now, add a dash after each element in the list to get:\n",
    "\n",
    "        ['runn-', 'jump-', 'shout-', 'danc-', 'sing-', 'eat-', 'read-']  "
   ]
  },
  {
   "cell_type": "code",
   "execution_count": 22,
   "metadata": {},
   "outputs": [
    {
     "data": {
      "text/plain": [
       "['HE IS A runn-ER',\n",
       " 'HE IS A jump-ER',\n",
       " 'HE IS A shout-ER',\n",
       " 'HE IS A danc-ER',\n",
       " 'HE IS A sing-ER',\n",
       " 'HE IS A eat-ER',\n",
       " 'HE IS A read-ER']"
      ]
     },
     "execution_count": 22,
     "metadata": {},
     "output_type": "execute_result"
    }
   ],
   "source": [
    "# Copy comprehension above, modify to add a dash \n",
    "[\"HE IS A \" + a[:-3]+\"-ER\" for a in activities]"
   ]
  },
  {
   "cell_type": "markdown",
   "metadata": {},
   "source": [
    "**Answer:** <span style=\"color:white\"> [a[:-3]+\"-\" for a in activities]"
   ]
  },
  {
   "cell_type": "markdown",
   "metadata": {},
   "source": [
    "3. Now, sort the list to get:\n",
    "\n",
    "       ['danc-', 'eat-', 'jump-', 'read-', 'runn-', 'shout-', 'sing-']"
   ]
  },
  {
   "cell_type": "code",
   "execution_count": 44,
   "metadata": {},
   "outputs": [
    {
     "name": "stdout",
     "output_type": "stream",
     "text": [
      "['danc', 'eat', 'jump', 'read', 'runn', 'shout', 'sing', 'basketball-']\n"
     ]
    }
   ],
   "source": [
    "# Copy comprehension above, sort it\n",
    "l = sorted([a[:-3] for a in activities])\n",
    "l.append(\"basketball-\")\n",
    "print(l)"
   ]
  },
  {
   "cell_type": "code",
   "execution_count": 45,
   "metadata": {},
   "outputs": [
    {
     "data": {
      "text/plain": [
       "['danc', 'eat', 'jump', 'read', 'runn', 'shout', 'sing', 'basketball-']"
      ]
     },
     "execution_count": 45,
     "metadata": {},
     "output_type": "execute_result"
    }
   ],
   "source": [
    "l"
   ]
  },
  {
   "cell_type": "markdown",
   "metadata": {},
   "source": [
    "**Answer:** <span style=\"color:white\"> sorted([a[:-3]+\"-\" for a in activities])"
   ]
  },
  {
   "cell_type": "markdown",
   "metadata": {},
   "source": [
    "4. Now, merge the list back into a string to get:\n",
    "\n",
    "       'danc- | eat- | jump- | read- | runn- | shout- | sing-'"
   ]
  },
  {
   "cell_type": "code",
   "execution_count": 48,
   "metadata": {},
   "outputs": [
    {
     "data": {
      "text/plain": [
       "'danc eat jump read runn shout sing basketball-'"
      ]
     },
     "execution_count": 48,
     "metadata": {},
     "output_type": "execute_result"
    }
   ],
   "source": [
    "# Copy comprehension above, join with a pipe character '|'\n",
    "\" \".join(l)"
   ]
  },
  {
   "cell_type": "markdown",
   "metadata": {},
   "source": [
    "**Answer:** <span style=\"color:white\">' | '.join(sorted([a[:-3]+\"-\" for a in activities]))"
   ]
  },
  {
   "cell_type": "markdown",
   "metadata": {},
   "source": [
    "## 2. Filtering lists"
   ]
  },
  {
   "cell_type": "markdown",
   "metadata": {},
   "source": [
    "The following exercise is taken from a short poem, \"The Fourth\", written by Shel Silverstein."
   ]
  },
  {
   "cell_type": "code",
   "execution_count": 35,
   "metadata": {},
   "outputs": [
    {
     "name": "stdout",
     "output_type": "stream",
     "text": [
      "Oh\n",
      "CRASH!\n",
      "my\n",
      "BASH!\n",
      "it’s\n",
      "BANG!\n",
      "the\n",
      "ZANG!\n",
      "Fourth\n",
      "WHOOSH!\n",
      "of\n",
      "BAROOM!\n",
      "July\n",
      "WHEW!\n"
     ]
    }
   ],
   "source": [
    "fourth = [\"Oh\", \"CRASH!\", \"my\", \"BASH!\", \"it’s\", \"BANG!\", \"the\", \"ZANG!\", \"Fourth\", \"WHOOSH!\", \"of\", \"BAROOM!\", \"July\", \"WHEW!\"]\n",
    "print(\"\\n\".join(fourth))       "
   ]
  },
  {
   "cell_type": "markdown",
   "metadata": {},
   "source": [
    "Let's write a list comprehension to:\n",
    "- Remove all of the firework sounds\n",
    "- Keep only firework sounds, without exclamation points and in lower case\n",
    "\n",
    "To start, I have added a simple comprehension that just copies all the words in the list."
   ]
  },
  {
   "cell_type": "code",
   "execution_count": 37,
   "metadata": {},
   "outputs": [
    {
     "data": {
      "text/plain": [
       "['Oh',\n",
       " 'CRASH!',\n",
       " 'my',\n",
       " 'BASH!',\n",
       " 'it’s',\n",
       " 'BANG!',\n",
       " 'the',\n",
       " 'ZANG!',\n",
       " 'Fourth',\n",
       " 'WHOOSH!',\n",
       " 'of',\n",
       " 'BAROOM!',\n",
       " 'July',\n",
       " 'WHEW!']"
      ]
     },
     "execution_count": 37,
     "metadata": {},
     "output_type": "execute_result"
    }
   ],
   "source": [
    "# The following comprehension lists all the words in the fourth of July poem\n",
    "[z for z in fourth]"
   ]
  },
  {
   "cell_type": "markdown",
   "metadata": {},
   "source": [
    "Modify the list comprehension to list only words without an exclamation point.    \n",
    "You will need to use an `if` filter. The result should be:\n",
    "\n",
    "    ['Oh', 'my', 'it’s', 'the', 'Fourth', 'of', 'July']"
   ]
  },
  {
   "cell_type": "code",
   "execution_count": 53,
   "metadata": {},
   "outputs": [
    {
     "data": {
      "text/plain": [
       "['Oh', 'my', 'it’s', 'the', 'Fourth', 'of', 'July']"
      ]
     },
     "execution_count": 53,
     "metadata": {},
     "output_type": "execute_result"
    }
   ],
   "source": [
    "# Modify the list comprehension above, to list only words without an exclamation point\n",
    "[w for w in fourth if \"!\" not in w]"
   ]
  },
  {
   "cell_type": "markdown",
   "metadata": {},
   "source": [
    "**Answer:** <span style=\"color:white\"> [w for w in fourth if \"!\" not in w]"
   ]
  },
  {
   "cell_type": "markdown",
   "metadata": {},
   "source": [
    "Join the result into a single sentence, using spaces as the join character. The result should be:\n",
    "   \n",
    "    'Oh my it’s the Fourth of July'"
   ]
  },
  {
   "cell_type": "code",
   "execution_count": 60,
   "metadata": {},
   "outputs": [
    {
     "data": {
      "text/plain": [
       "['1', '2', '3']"
      ]
     },
     "execution_count": 60,
     "metadata": {},
     "output_type": "execute_result"
    }
   ],
   "source": [
    "[str(i) for i in [1,2,3]]"
   ]
  },
  {
   "cell_type": "code",
   "execution_count": 59,
   "metadata": {},
   "outputs": [
    {
     "data": {
      "text/plain": [
       "'1 --- 2 --- 3'"
      ]
     },
     "execution_count": 59,
     "metadata": {},
     "output_type": "execute_result"
    }
   ],
   "source": [
    "\" --- \".join(    [str(i) for i in [1,2,3]]   )"
   ]
  },
  {
   "cell_type": "code",
   "execution_count": 52,
   "metadata": {},
   "outputs": [
    {
     "data": {
      "text/plain": [
       "['CRASH!',\n",
       " 'my',\n",
       " 'BASH!',\n",
       " 'it’s',\n",
       " 'BANG!',\n",
       " 'the',\n",
       " 'ZANG!',\n",
       " 'Fourth',\n",
       " 'WHOOSH!',\n",
       " 'of',\n",
       " 'BAROOM!',\n",
       " 'July',\n",
       " 'WHEW!']"
      ]
     },
     "execution_count": 52,
     "metadata": {},
     "output_type": "execute_result"
    }
   ],
   "source": [
    "# Modify the list comprehension above, joining on spaces to create a single message\n",
    "[w for w in fourth if not w==\"Oh\"]"
   ]
  },
  {
   "cell_type": "markdown",
   "metadata": {},
   "source": [
    "**Answer:** <span style=\"color:white\"> \" \".join([w for w in fourth if \"!\" not in w])"
   ]
  },
  {
   "cell_type": "markdown",
   "metadata": {},
   "source": [
    "Now, write a list comprehension to list only words that **do** include an exclamation point. The answer should be:\n",
    "       \n",
    "    ['CRASH!', 'BASH!', 'BANG!', 'ZANG!', 'WHOOSH!', 'BAROOM!', 'WHEW!']"
   ]
  },
  {
   "cell_type": "code",
   "execution_count": 63,
   "metadata": {},
   "outputs": [
    {
     "data": {
      "text/plain": [
       "['crash!', 'bash!', 'bang!', 'zang!', 'whoosh!', 'baroom!', 'whew!']"
      ]
     },
     "execution_count": 63,
     "metadata": {},
     "output_type": "execute_result"
    }
   ],
   "source": [
    "# Write a list comprehension to list only words that include an exclamation point\n",
    "[w.lower() for w in fourth if \"!\" in w]"
   ]
  },
  {
   "cell_type": "markdown",
   "metadata": {},
   "source": [
    "**Answer:** <span style=\"color:white\">  [w for w in fourth if \"!\" in w]"
   ]
  },
  {
   "cell_type": "markdown",
   "metadata": {},
   "source": [
    "Now, edit the list comprehension above to ensure the words are all lowercase, to get:\n",
    "\n",
    "    ['crash!', 'bash!', 'bang!', 'zang!', 'whoosh!', 'baroom!', 'whew!']"
   ]
  },
  {
   "cell_type": "code",
   "execution_count": null,
   "metadata": {},
   "outputs": [],
   "source": [
    "# Modify the list comprehension above, to make the words lowercase\n"
   ]
  },
  {
   "cell_type": "markdown",
   "metadata": {},
   "source": [
    "**Answer:** <span style=\"color:white\">  [w.lower() for w in fourth if \"!\" in w]"
   ]
  },
  {
   "cell_type": "markdown",
   "metadata": {},
   "source": [
    "Finally, edit the comprehension above to remove the exclamation point. You should end with: \n",
    "\n",
    "    ['crash', 'bash', 'bang', 'zang', 'whoosh', 'baroom', 'whew']"
   ]
  },
  {
   "cell_type": "code",
   "execution_count": 68,
   "metadata": {},
   "outputs": [
    {
     "data": {
      "text/plain": [
       "['CRASH!!!!?',\n",
       " 'BASH!!!!?',\n",
       " 'BANG!!!!?',\n",
       " 'ZANG!!!!?',\n",
       " 'WHOOSH!!!!?',\n",
       " 'BAROOM!!!!?',\n",
       " 'WHEW!!!!?']"
      ]
     },
     "execution_count": 68,
     "metadata": {},
     "output_type": "execute_result"
    }
   ],
   "source": [
    "# And remove the exclamation point\n",
    "[w.replace(\"!\", \"!!!!?\") for w in fourth if \"!\" in w]"
   ]
  },
  {
   "cell_type": "markdown",
   "metadata": {},
   "source": [
    "**Answer:** <span style=\"color:white\"> [w.lower()[:-1] for w in fourth if \"!\" in w]"
   ]
  },
  {
   "cell_type": "code",
   "execution_count": 1,
   "metadata": {},
   "outputs": [],
   "source": [
    "l = ['hiking', 'biking', 'resting', 'run', 'jump', 'skiing']"
   ]
  },
  {
   "cell_type": "code",
   "execution_count": null,
   "metadata": {},
   "outputs": [],
   "source": [
    "l = ['this.list', 'thissss.lllist', 'thiiiisisisis.listtttt']"
   ]
  }
 ],
 "metadata": {
  "kernelspec": {
   "display_name": "Python 3",
   "language": "python",
   "name": "python3"
  },
  "language_info": {
   "codemirror_mode": {
    "name": "ipython",
    "version": 3
   },
   "file_extension": ".py",
   "mimetype": "text/x-python",
   "name": "python",
   "nbconvert_exporter": "python",
   "pygments_lexer": "ipython3",
   "version": "3.6.5"
  }
 },
 "nbformat": 4,
 "nbformat_minor": 2
}
